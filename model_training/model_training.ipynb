{
 "cells": [
  {
   "cell_type": "code",
   "execution_count": 1,
   "id": "d56e9d24",
   "metadata": {},
   "outputs": [],
   "source": [
    "import pandas as pd\n",
    "import numpy as np\n",
    "import matplotlib.pyplot as plt"
   ]
  },
  {
   "cell_type": "code",
   "execution_count": 2,
   "id": "db643643",
   "metadata": {
    "scrolled": false
   },
   "outputs": [
    {
     "data": {
      "text/html": [
       "<div>\n",
       "<style scoped>\n",
       "    .dataframe tbody tr th:only-of-type {\n",
       "        vertical-align: middle;\n",
       "    }\n",
       "\n",
       "    .dataframe tbody tr th {\n",
       "        vertical-align: top;\n",
       "    }\n",
       "\n",
       "    .dataframe thead th {\n",
       "        text-align: right;\n",
       "    }\n",
       "</style>\n",
       "<table border=\"1\" class=\"dataframe\">\n",
       "  <thead>\n",
       "    <tr style=\"text-align: right;\">\n",
       "      <th></th>\n",
       "      <th>Item_Weight</th>\n",
       "      <th>Item_Fat_Content</th>\n",
       "      <th>Item_Visibility</th>\n",
       "      <th>Item_Type</th>\n",
       "      <th>Item_MRP</th>\n",
       "      <th>Outlet_Size</th>\n",
       "      <th>Outlet_Location_Type</th>\n",
       "      <th>Outlet_Type</th>\n",
       "      <th>Item_Outlet_Sales</th>\n",
       "      <th>Outlet_Years</th>\n",
       "      <th>Item_Type_New</th>\n",
       "    </tr>\n",
       "  </thead>\n",
       "  <tbody>\n",
       "    <tr>\n",
       "      <th>0</th>\n",
       "      <td>9.30</td>\n",
       "      <td>0</td>\n",
       "      <td>0.016047</td>\n",
       "      <td>4</td>\n",
       "      <td>249.8092</td>\n",
       "      <td>1</td>\n",
       "      <td>0</td>\n",
       "      <td>1</td>\n",
       "      <td>3735.1380</td>\n",
       "      <td>23</td>\n",
       "      <td>1</td>\n",
       "    </tr>\n",
       "    <tr>\n",
       "      <th>1</th>\n",
       "      <td>5.92</td>\n",
       "      <td>2</td>\n",
       "      <td>0.019278</td>\n",
       "      <td>14</td>\n",
       "      <td>48.2692</td>\n",
       "      <td>1</td>\n",
       "      <td>2</td>\n",
       "      <td>2</td>\n",
       "      <td>443.4228</td>\n",
       "      <td>13</td>\n",
       "      <td>0</td>\n",
       "    </tr>\n",
       "    <tr>\n",
       "      <th>2</th>\n",
       "      <td>17.50</td>\n",
       "      <td>0</td>\n",
       "      <td>0.016760</td>\n",
       "      <td>10</td>\n",
       "      <td>141.6180</td>\n",
       "      <td>1</td>\n",
       "      <td>0</td>\n",
       "      <td>1</td>\n",
       "      <td>2097.2700</td>\n",
       "      <td>23</td>\n",
       "      <td>1</td>\n",
       "    </tr>\n",
       "    <tr>\n",
       "      <th>3</th>\n",
       "      <td>19.20</td>\n",
       "      <td>2</td>\n",
       "      <td>0.015274</td>\n",
       "      <td>6</td>\n",
       "      <td>182.0950</td>\n",
       "      <td>2</td>\n",
       "      <td>2</td>\n",
       "      <td>0</td>\n",
       "      <td>732.3800</td>\n",
       "      <td>24</td>\n",
       "      <td>1</td>\n",
       "    </tr>\n",
       "    <tr>\n",
       "      <th>4</th>\n",
       "      <td>8.93</td>\n",
       "      <td>1</td>\n",
       "      <td>0.008082</td>\n",
       "      <td>9</td>\n",
       "      <td>53.8614</td>\n",
       "      <td>0</td>\n",
       "      <td>2</td>\n",
       "      <td>1</td>\n",
       "      <td>994.7052</td>\n",
       "      <td>35</td>\n",
       "      <td>2</td>\n",
       "    </tr>\n",
       "  </tbody>\n",
       "</table>\n",
       "</div>"
      ],
      "text/plain": [
       "   Item_Weight  Item_Fat_Content  Item_Visibility  Item_Type  Item_MRP  \\\n",
       "0         9.30                 0         0.016047          4  249.8092   \n",
       "1         5.92                 2         0.019278         14   48.2692   \n",
       "2        17.50                 0         0.016760         10  141.6180   \n",
       "3        19.20                 2         0.015274          6  182.0950   \n",
       "4         8.93                 1         0.008082          9   53.8614   \n",
       "\n",
       "   Outlet_Size  Outlet_Location_Type  Outlet_Type  Item_Outlet_Sales  \\\n",
       "0            1                     0            1          3735.1380   \n",
       "1            1                     2            2           443.4228   \n",
       "2            1                     0            1          2097.2700   \n",
       "3            2                     2            0           732.3800   \n",
       "4            0                     2            1           994.7052   \n",
       "\n",
       "   Outlet_Years  Item_Type_New  \n",
       "0            23              1  \n",
       "1            13              0  \n",
       "2            23              1  \n",
       "3            24              1  \n",
       "4            35              2  "
      ]
     },
     "execution_count": 2,
     "metadata": {},
     "output_type": "execute_result"
    }
   ],
   "source": [
    "df= pd.read_csv(\"../cleaning/cleaned_data.csv\")\n",
    "df.head()"
   ]
  },
  {
   "cell_type": "code",
   "execution_count": 41,
   "id": "9a3cfd86",
   "metadata": {},
   "outputs": [],
   "source": [
    "# trying not to use iTem_Type_New To see improvement"
   ]
  },
  {
   "cell_type": "code",
   "execution_count": 3,
   "id": "a5bb4de4",
   "metadata": {},
   "outputs": [],
   "source": [
    "Y= df['Item_Outlet_Sales']\n",
    "X= df.drop(columns=['Item_Outlet_Sales','Item_Type_New'],axis=1)"
   ]
  },
  {
   "cell_type": "code",
   "execution_count": 4,
   "id": "e77ee1e5",
   "metadata": {},
   "outputs": [
    {
     "data": {
      "text/html": [
       "<div>\n",
       "<style scoped>\n",
       "    .dataframe tbody tr th:only-of-type {\n",
       "        vertical-align: middle;\n",
       "    }\n",
       "\n",
       "    .dataframe tbody tr th {\n",
       "        vertical-align: top;\n",
       "    }\n",
       "\n",
       "    .dataframe thead th {\n",
       "        text-align: right;\n",
       "    }\n",
       "</style>\n",
       "<table border=\"1\" class=\"dataframe\">\n",
       "  <thead>\n",
       "    <tr style=\"text-align: right;\">\n",
       "      <th></th>\n",
       "      <th>Item_Weight</th>\n",
       "      <th>Item_Fat_Content</th>\n",
       "      <th>Item_Visibility</th>\n",
       "      <th>Item_Type</th>\n",
       "      <th>Item_MRP</th>\n",
       "      <th>Outlet_Size</th>\n",
       "      <th>Outlet_Location_Type</th>\n",
       "      <th>Outlet_Type</th>\n",
       "      <th>Outlet_Years</th>\n",
       "    </tr>\n",
       "  </thead>\n",
       "  <tbody>\n",
       "    <tr>\n",
       "      <th>0</th>\n",
       "      <td>9.30</td>\n",
       "      <td>0</td>\n",
       "      <td>0.016047</td>\n",
       "      <td>4</td>\n",
       "      <td>249.8092</td>\n",
       "      <td>1</td>\n",
       "      <td>0</td>\n",
       "      <td>1</td>\n",
       "      <td>23</td>\n",
       "    </tr>\n",
       "    <tr>\n",
       "      <th>1</th>\n",
       "      <td>5.92</td>\n",
       "      <td>2</td>\n",
       "      <td>0.019278</td>\n",
       "      <td>14</td>\n",
       "      <td>48.2692</td>\n",
       "      <td>1</td>\n",
       "      <td>2</td>\n",
       "      <td>2</td>\n",
       "      <td>13</td>\n",
       "    </tr>\n",
       "    <tr>\n",
       "      <th>2</th>\n",
       "      <td>17.50</td>\n",
       "      <td>0</td>\n",
       "      <td>0.016760</td>\n",
       "      <td>10</td>\n",
       "      <td>141.6180</td>\n",
       "      <td>1</td>\n",
       "      <td>0</td>\n",
       "      <td>1</td>\n",
       "      <td>23</td>\n",
       "    </tr>\n",
       "    <tr>\n",
       "      <th>3</th>\n",
       "      <td>19.20</td>\n",
       "      <td>2</td>\n",
       "      <td>0.015274</td>\n",
       "      <td>6</td>\n",
       "      <td>182.0950</td>\n",
       "      <td>2</td>\n",
       "      <td>2</td>\n",
       "      <td>0</td>\n",
       "      <td>24</td>\n",
       "    </tr>\n",
       "    <tr>\n",
       "      <th>4</th>\n",
       "      <td>8.93</td>\n",
       "      <td>1</td>\n",
       "      <td>0.008082</td>\n",
       "      <td>9</td>\n",
       "      <td>53.8614</td>\n",
       "      <td>0</td>\n",
       "      <td>2</td>\n",
       "      <td>1</td>\n",
       "      <td>35</td>\n",
       "    </tr>\n",
       "  </tbody>\n",
       "</table>\n",
       "</div>"
      ],
      "text/plain": [
       "   Item_Weight  Item_Fat_Content  Item_Visibility  Item_Type  Item_MRP  \\\n",
       "0         9.30                 0         0.016047          4  249.8092   \n",
       "1         5.92                 2         0.019278         14   48.2692   \n",
       "2        17.50                 0         0.016760         10  141.6180   \n",
       "3        19.20                 2         0.015274          6  182.0950   \n",
       "4         8.93                 1         0.008082          9   53.8614   \n",
       "\n",
       "   Outlet_Size  Outlet_Location_Type  Outlet_Type  Outlet_Years  \n",
       "0            1                     0            1            23  \n",
       "1            1                     2            2            13  \n",
       "2            1                     0            1            23  \n",
       "3            2                     2            0            24  \n",
       "4            0                     2            1            35  "
      ]
     },
     "execution_count": 4,
     "metadata": {},
     "output_type": "execute_result"
    }
   ],
   "source": [
    "X.head()"
   ]
  },
  {
   "cell_type": "markdown",
   "id": "031c80ca",
   "metadata": {},
   "source": [
    "### spliting the data"
   ]
  },
  {
   "cell_type": "code",
   "execution_count": 5,
   "id": "b0ee6c5a",
   "metadata": {},
   "outputs": [],
   "source": [
    "### train test split\n",
    "from sklearn.model_selection import train_test_split\n",
    "\n",
    "x_train,x_test,y_train,y_test= train_test_split(X,Y,test_size=.25,random_state= 42)\n"
   ]
  },
  {
   "cell_type": "code",
   "execution_count": 6,
   "id": "9c2f6bc2",
   "metadata": {},
   "outputs": [
    {
     "name": "stdout",
     "output_type": "stream",
     "text": [
      "(6392, 9) (6392,)\n",
      "(2131, 9) (2131,)\n"
     ]
    }
   ],
   "source": [
    "print(x_train.shape, y_train.shape)\n",
    "print(x_test.shape,y_test.shape)"
   ]
  },
  {
   "cell_type": "markdown",
   "id": "faedea7d",
   "metadata": {},
   "source": [
    "### scaling"
   ]
  },
  {
   "cell_type": "code",
   "execution_count": 7,
   "id": "a0f95128",
   "metadata": {},
   "outputs": [],
   "source": [
    "from sklearn.preprocessing import StandardScaler\n",
    "\n",
    "scaler= StandardScaler()\n",
    "x_train= scaler.fit_transform(x_train)\n",
    "x_test= scaler.transform(x_test)"
   ]
  },
  {
   "cell_type": "code",
   "execution_count": null,
   "id": "096922a5",
   "metadata": {},
   "outputs": [],
   "source": []
  },
  {
   "cell_type": "markdown",
   "id": "99fb2597",
   "metadata": {},
   "source": [
    " ## Model Training"
   ]
  },
  {
   "cell_type": "markdown",
   "id": "02ae7b91",
   "metadata": {},
   "source": [
    "### 1. Linear regression"
   ]
  },
  {
   "cell_type": "code",
   "execution_count": 8,
   "id": "4fd90acd",
   "metadata": {},
   "outputs": [
    {
     "data": {
      "text/plain": [
       "0.5036244908255898"
      ]
     },
     "execution_count": 8,
     "metadata": {},
     "output_type": "execute_result"
    }
   ],
   "source": [
    "from sklearn.linear_model import LinearRegression\n",
    "lr_model= LinearRegression()\n",
    "lr_model.fit(x_train,y_train)\n",
    "lr_score= lr_model.score(x_test,y_test)\n",
    "lr_score"
   ]
  },
  {
   "cell_type": "code",
   "execution_count": 9,
   "id": "09d207f1",
   "metadata": {},
   "outputs": [
    {
     "data": {
      "image/png": "[encoded data removed]",
      "text/plain": [
       "<Figure size 432x288 with 1 Axes>"
      ]
     },
     "metadata": {
      "needs_background": "light"
     },
     "output_type": "display_data"
    }
   ],
   "source": [
    "y_pred= lr_model.predict(x_test)\n",
    "plt.scatter(y_test,y_pred)\n",
    "plt.show()"
   ]
  },
  {
   "cell_type": "code",
   "execution_count": 10,
   "id": "f8e95365",
   "metadata": {},
   "outputs": [
    {
     "name": "stdout",
     "output_type": "stream",
     "text": [
      "1170.2515780957792\n"
     ]
    }
   ],
   "source": [
    "from sklearn.metrics import mean_squared_error\n",
    "lr_RME= np.sqrt(mean_squared_error(y_test,y_pred))\n",
    "print(lr_RME)"
   ]
  },
  {
   "cell_type": "markdown",
   "id": "3c7f5826",
   "metadata": {},
   "source": [
    "### 2. lasso\n"
   ]
  },
  {
   "cell_type": "code",
   "execution_count": 11,
   "id": "6eeb1264",
   "metadata": {},
   "outputs": [
    {
     "data": {
      "text/plain": [
       "0.5036244908255898"
      ]
     },
     "execution_count": 11,
     "metadata": {},
     "output_type": "execute_result"
    }
   ],
   "source": [
    "from sklearn.linear_model import Lasso\n",
    "lasso_model= LinearRegression()\n",
    "lasso_model.fit(x_train,y_train)\n",
    "lasso_score= lasso_model.score(x_test,y_test)\n",
    "lasso_score\n"
   ]
  },
  {
   "cell_type": "code",
   "execution_count": 12,
   "id": "ba680fb7",
   "metadata": {},
   "outputs": [
    {
     "name": "stdout",
     "output_type": "stream",
     "text": [
      "rmse 1170.2515780957792\n"
     ]
    },
    {
     "data": {
      "image/png": "[encoded data removed]",
      "text/plain": [
       "<Figure size 432x288 with 1 Axes>"
      ]
     },
     "metadata": {
      "needs_background": "light"
     },
     "output_type": "display_data"
    }
   ],
   "source": [
    "y_pred= lr_model.predict(x_test)\n",
    "lasso_RMSE= np.sqrt(mean_squared_error(y_test,y_pred))\n",
    "print(\"rmse\",lasso_RMSE)\n",
    "plt.scatter(y_test,y_pred)\n",
    "plt.show()"
   ]
  },
  {
   "cell_type": "markdown",
   "id": "543e27b5",
   "metadata": {},
   "source": [
    "### 3. Decision tree"
   ]
  },
  {
   "cell_type": "code",
   "execution_count": 13,
   "id": "15f91d77",
   "metadata": {},
   "outputs": [
    {
     "name": "stdout",
     "output_type": "stream",
     "text": [
      "0.1862287054516435\n"
     ]
    }
   ],
   "source": [
    "from sklearn.tree import DecisionTreeRegressor\n",
    "tree_model= DecisionTreeRegressor()\n",
    "tree_model.fit(x_train,y_train)\n",
    "score= tree_model.score(x_test,y_test)\n",
    "print(score)"
   ]
  },
  {
   "cell_type": "code",
   "execution_count": 14,
   "id": "5e84ae88",
   "metadata": {},
   "outputs": [
    {
     "name": "stdout",
     "output_type": "stream",
     "text": [
      "1.0\n"
     ]
    }
   ],
   "source": [
    "score= tree_model.score(x_train,y_train)\n",
    "print(score)"
   ]
  },
  {
   "cell_type": "code",
   "execution_count": 15,
   "id": "c20fe980",
   "metadata": {},
   "outputs": [
    {
     "name": "stdout",
     "output_type": "stream",
     "text": [
      "rmse 1498.3913104152516\n"
     ]
    },
    {
     "data": {
      "image/png": "[encoded data removed]",
      "text/plain": [
       "<Figure size 432x288 with 1 Axes>"
      ]
     },
     "metadata": {
      "needs_background": "light"
     },
     "output_type": "display_data"
    }
   ],
   "source": [
    "y_pred= tree_model.predict(x_test)\n",
    "tree_RMSE= np.sqrt(mean_squared_error(y_test,y_pred))\n",
    "print(\"rmse\",tree_RMSE)\n",
    "plt.scatter(y_pred,y_test)\n",
    "plt.show()"
   ]
  },
  {
   "cell_type": "markdown",
   "id": "0ea213c1",
   "metadata": {},
   "source": [
    "### 4. Random Forest"
   ]
  },
  {
   "cell_type": "code",
   "execution_count": 16,
   "id": "8925af8b",
   "metadata": {},
   "outputs": [
    {
     "name": "stdout",
     "output_type": "stream",
     "text": [
      "score 0.5064169945106072\n",
      "rmse 1166.9551412940355\n"
     ]
    },
    {
     "data": {
      "image/png": "[encoded data removed]",
      "text/plain": [
       "<Figure size 432x288 with 1 Axes>"
      ]
     },
     "metadata": {
      "needs_background": "light"
     },
     "output_type": "display_data"
    }
   ],
   "source": [
    "from sklearn.ensemble import RandomForestRegressor\n",
    "\n",
    "forest_model= RandomForestRegressor(n_estimators=10)\n",
    "forest_model.fit(x_train,y_train)\n",
    "score= forest_model.score(x_test,y_test)\n",
    "print(\"score\", score)\n",
    "y_pred= forest_model.predict(x_test)\n",
    "rmse= np.sqrt(mean_squared_error(y_test,y_pred))\n",
    "print(\"rmse\", rmse)\n",
    "plt.scatter(y_pred,y_test,c='red')\n",
    "plt.show()\n"
   ]
  },
  {
   "cell_type": "markdown",
   "id": "20370465",
   "metadata": {},
   "source": [
    "### 5. xgb regression"
   ]
  },
  {
   "cell_type": "code",
   "execution_count": 17,
   "id": "fe84fdec",
   "metadata": {},
   "outputs": [
    {
     "name": "stderr",
     "output_type": "stream",
     "text": [
      "C:\\Users\\Adesh Kumar\\anaconda3\\envs\\bigmart\\lib\\site-packages\\xgboost\\compat.py:36: FutureWarning: pandas.Int64Index is deprecated and will be removed from pandas in a future version. Use pandas.Index with the appropriate dtype instead.\n",
      "  from pandas import MultiIndex, Int64Index\n"
     ]
    },
    {
     "name": "stdout",
     "output_type": "stream",
     "text": [
      "score 0.5342033872380517\n",
      "rmse 1133.6323369362249\n"
     ]
    },
    {
     "data": {
      "image/png": "[encoded data removed]",
      "text/plain": [
       "<Figure size 432x288 with 1 Axes>"
      ]
     },
     "metadata": {
      "needs_background": "light"
     },
     "output_type": "display_data"
    }
   ],
   "source": [
    "from xgboost import XGBRegressor\n",
    "\n",
    "xg_model= XGBRegressor()\n",
    "xg_model.fit(x_train,y_train)\n",
    "score= xg_model.score(x_test,y_test)\n",
    "print(\"score\", score)\n",
    "y_pred= xg_model.predict(x_test)\n",
    "rmse= np.sqrt(mean_squared_error(y_test,y_pred))\n",
    "print(\"rmse\", rmse)\n",
    "plt.scatter(y_pred,y_test)\n",
    "plt.show()\n",
    "\n"
   ]
  },
  {
   "cell_type": "code",
   "execution_count": 18,
   "id": "8379c8e3",
   "metadata": {},
   "outputs": [],
   "source": [
    "### best model we get till now is Random forest\n"
   ]
  },
  {
   "cell_type": "code",
   "execution_count": 19,
   "id": "1e0c268e",
   "metadata": {},
   "outputs": [],
   "source": [
    "rf = RandomForestRegressor()\n"
   ]
  },
  {
   "cell_type": "code",
   "execution_count": 20,
   "id": "437248ba",
   "metadata": {},
   "outputs": [
    {
     "data": {
      "text/plain": [
       "RandomForestRegressor()"
      ]
     },
     "execution_count": 20,
     "metadata": {},
     "output_type": "execute_result"
    }
   ],
   "source": [
    "rf.fit(x_train,y_train)"
   ]
  },
  {
   "cell_type": "code",
   "execution_count": 21,
   "id": "e67c0e02",
   "metadata": {},
   "outputs": [
    {
     "name": "stdout",
     "output_type": "stream",
     "text": [
      "1102.8927486553398\n"
     ]
    }
   ],
   "source": [
    "y_pred= rf.predict(x_test)\n",
    "rmse= np.sqrt(mean_squared_error(y_test,y_pred))\n",
    "print(rmse)"
   ]
  },
  {
   "cell_type": "code",
   "execution_count": 22,
   "id": "80deed65",
   "metadata": {
    "scrolled": true
   },
   "outputs": [
    {
     "data": {
      "text/html": [
       "<div>\n",
       "<style scoped>\n",
       "    .dataframe tbody tr th:only-of-type {\n",
       "        vertical-align: middle;\n",
       "    }\n",
       "\n",
       "    .dataframe tbody tr th {\n",
       "        vertical-align: top;\n",
       "    }\n",
       "\n",
       "    .dataframe thead th {\n",
       "        text-align: right;\n",
       "    }\n",
       "</style>\n",
       "<table border=\"1\" class=\"dataframe\">\n",
       "  <thead>\n",
       "    <tr style=\"text-align: right;\">\n",
       "      <th></th>\n",
       "      <th>actual</th>\n",
       "      <th>Pred</th>\n",
       "    </tr>\n",
       "  </thead>\n",
       "  <tbody>\n",
       "    <tr>\n",
       "      <th>7503</th>\n",
       "      <td>1743.0644</td>\n",
       "      <td>666.732120</td>\n",
       "    </tr>\n",
       "    <tr>\n",
       "      <th>2957</th>\n",
       "      <td>356.8688</td>\n",
       "      <td>914.982308</td>\n",
       "    </tr>\n",
       "    <tr>\n",
       "      <th>7031</th>\n",
       "      <td>377.5086</td>\n",
       "      <td>747.373816</td>\n",
       "    </tr>\n",
       "    <tr>\n",
       "      <th>1084</th>\n",
       "      <td>5778.4782</td>\n",
       "      <td>5425.890494</td>\n",
       "    </tr>\n",
       "    <tr>\n",
       "      <th>856</th>\n",
       "      <td>2356.9320</td>\n",
       "      <td>2517.016952</td>\n",
       "    </tr>\n",
       "  </tbody>\n",
       "</table>\n",
       "</div>"
      ],
      "text/plain": [
       "         actual         Pred\n",
       "7503  1743.0644   666.732120\n",
       "2957   356.8688   914.982308\n",
       "7031   377.5086   747.373816\n",
       "1084  5778.4782  5425.890494\n",
       "856   2356.9320  2517.016952"
      ]
     },
     "execution_count": 22,
     "metadata": {},
     "output_type": "execute_result"
    }
   ],
   "source": [
    "result= pd.DataFrame({\"actual\":y_test,\"Pred\":y_pred})\n",
    "result.head()"
   ]
  },
  {
   "cell_type": "code",
   "execution_count": null,
   "id": "ad2985db",
   "metadata": {},
   "outputs": [],
   "source": []
  },
  {
   "cell_type": "markdown",
   "id": "8d6aeb30",
   "metadata": {},
   "source": [
    "### hyperparameter tunig with RandomForest Regression"
   ]
  },
  {
   "cell_type": "code",
   "execution_count": 23,
   "id": "a7691707",
   "metadata": {},
   "outputs": [
    {
     "name": "stdout",
     "output_type": "stream",
     "text": [
      "Fitting 3 folds for each of 3 candidates, totalling 9 fits\n",
      "Best: 0.554 using {'n_estimators': 1000}\n",
      "0.548 (0.005) with: {'n_estimators': 50}\n",
      "0.550 (0.005) with: {'n_estimators': 100}\n",
      "0.554 (0.006) with: {'n_estimators': 1000}\n"
     ]
    }
   ],
   "source": [
    "from sklearn.model_selection import GridSearchCV\n",
    "from sklearn.model_selection import KFold\n",
    "\n",
    "# define models and parameters\n",
    "model = RandomForestRegressor(random_state=42)\n",
    "n_estimators =[50,100,1000] \n",
    "# min_samples_leaf=[1, 2, 4,6,8]\n",
    "#max_features=[\"auto\", \"sqrt\", \"log2\"]\n",
    "#min_samples_split=[2, 5, 10,14]\n",
    "\n",
    "# define grid search\n",
    "grid = dict(n_estimators=n_estimators,\n",
    "           \n",
    "           )\n",
    "\n",
    "cv = KFold(n_splits=3,shuffle=True)\n",
    "\n",
    "grid_search_forest = GridSearchCV(estimator=model, param_grid=grid, n_jobs=-1, \n",
    "                           scoring='r2',error_score=0,verbose=2,cv=cv)\n",
    "\n",
    "grid_search_forest.fit(x_train, y_train)\n",
    "\n",
    "# summarize results\n",
    "print(f\"Best: {grid_search_forest.best_score_:.3f} using {grid_search_forest.best_params_}\")\n",
    "means = grid_search_forest.cv_results_['mean_test_score']\n",
    "stds = grid_search_forest.cv_results_['std_test_score']\n",
    "params = grid_search_forest.cv_results_['params']\n",
    "\n",
    "for mean, stdev, param in zip(means, stds, params):\n",
    "    print(f\"{mean:.3f} ({stdev:.3f}) with: {param}\")"
   ]
  },
  {
   "cell_type": "code",
   "execution_count": 24,
   "id": "a9f3fd98",
   "metadata": {},
   "outputs": [
    {
     "data": {
      "text/plain": [
       "{'n_estimators': 1000}"
      ]
     },
     "execution_count": 24,
     "metadata": {},
     "output_type": "execute_result"
    }
   ],
   "source": [
    "grid_search_forest.best_params_"
   ]
  },
  {
   "cell_type": "code",
   "execution_count": null,
   "id": "c9053240",
   "metadata": {},
   "outputs": [],
   "source": []
  },
  {
   "cell_type": "code",
   "execution_count": null,
   "id": "2149e02b",
   "metadata": {
    "scrolled": true
   },
   "outputs": [],
   "source": []
  },
  {
   "cell_type": "markdown",
   "id": "34e09c6f",
   "metadata": {},
   "source": [
    "### SVR"
   ]
  },
  {
   "cell_type": "code",
   "execution_count": 25,
   "id": "9584df02",
   "metadata": {},
   "outputs": [
    {
     "data": {
      "text/plain": [
       "SVR()"
      ]
     },
     "execution_count": 25,
     "metadata": {},
     "output_type": "execute_result"
    }
   ],
   "source": [
    "from sklearn.svm import SVR\n",
    "svr= SVR()\n",
    "svr.fit(x_train,y_train)"
   ]
  },
  {
   "cell_type": "code",
   "execution_count": 26,
   "id": "095274a3",
   "metadata": {},
   "outputs": [
    {
     "data": {
      "text/plain": [
       "0.07482620260904294"
      ]
     },
     "execution_count": 26,
     "metadata": {},
     "output_type": "execute_result"
    }
   ],
   "source": [
    "svr.score(x_test,y_test)"
   ]
  },
  {
   "cell_type": "code",
   "execution_count": 27,
   "id": "da324baa",
   "metadata": {},
   "outputs": [
    {
     "name": "stdout",
     "output_type": "stream",
     "text": [
      "1597.6650131599822\n"
     ]
    },
    {
     "data": {
      "image/png": "[encoded data removed]",
      "text/plain": [
       "<Figure size 432x288 with 1 Axes>"
      ]
     },
     "metadata": {
      "needs_background": "light"
     },
     "output_type": "display_data"
    }
   ],
   "source": [
    "y_pred= svr.predict(x_test)\n",
    "rmse= np.sqrt(mean_squared_error(y_test,y_pred))\n",
    "print(rmse)\n",
    "plt.scatter(y_test,y_pred)\n",
    "plt.show()"
   ]
  },
  {
   "cell_type": "code",
   "execution_count": null,
   "id": "1240f893",
   "metadata": {},
   "outputs": [],
   "source": []
  },
  {
   "cell_type": "markdown",
   "id": "64c9e764",
   "metadata": {},
   "source": [
    "### ADa grad"
   ]
  },
  {
   "cell_type": "code",
   "execution_count": 28,
   "id": "126db031",
   "metadata": {},
   "outputs": [
    {
     "data": {
      "text/plain": [
       "0.5678118265022081"
      ]
     },
     "execution_count": 28,
     "metadata": {},
     "output_type": "execute_result"
    }
   ],
   "source": [
    "from sklearn.ensemble import AdaBoostRegressor\n",
    "\n",
    "ada_reg= AdaBoostRegressor(n_estimators=10,learning_rate=.3)\n",
    "ada_reg.fit(x_train,y_train)\n",
    "ada_reg.score(x_test,y_test)"
   ]
  },
  {
   "cell_type": "code",
   "execution_count": 29,
   "id": "442f7012",
   "metadata": {},
   "outputs": [
    {
     "name": "stdout",
     "output_type": "stream",
     "text": [
      "1091.9694843442512\n"
     ]
    }
   ],
   "source": [
    "y_pred= ada_reg.predict(x_test)\n",
    "rmse= np.sqrt(mean_squared_error(y_test,y_pred))\n",
    "print(rmse)"
   ]
  },
  {
   "cell_type": "code",
   "execution_count": 30,
   "id": "8eef2eb8",
   "metadata": {},
   "outputs": [
    {
     "name": "stdout",
     "output_type": "stream",
     "text": [
      "Fitting 5 folds for each of 30 candidates, totalling 150 fits\n",
      "Best: 0.567 using {'learning_rate': 0.1, 'n_estimators': 50}\n",
      "0.526 (0.036) with: {'learning_rate': 0.1, 'n_estimators': 5}\n",
      "0.532 (0.036) with: {'learning_rate': 0.1, 'n_estimators': 10}\n",
      "0.544 (0.036) with: {'learning_rate': 0.1, 'n_estimators': 15}\n",
      "0.550 (0.041) with: {'learning_rate': 0.1, 'n_estimators': 20}\n",
      "0.567 (0.035) with: {'learning_rate': 0.1, 'n_estimators': 50}\n",
      "0.535 (0.037) with: {'learning_rate': 0.2, 'n_estimators': 5}\n",
      "0.546 (0.041) with: {'learning_rate': 0.2, 'n_estimators': 10}\n",
      "0.562 (0.035) with: {'learning_rate': 0.2, 'n_estimators': 15}\n",
      "0.563 (0.034) with: {'learning_rate': 0.2, 'n_estimators': 20}\n",
      "0.553 (0.036) with: {'learning_rate': 0.2, 'n_estimators': 50}\n",
      "0.540 (0.042) with: {'learning_rate': 0.3, 'n_estimators': 5}\n",
      "0.561 (0.041) with: {'learning_rate': 0.3, 'n_estimators': 10}\n",
      "0.565 (0.036) with: {'learning_rate': 0.3, 'n_estimators': 15}\n",
      "0.561 (0.038) with: {'learning_rate': 0.3, 'n_estimators': 20}\n",
      "0.537 (0.034) with: {'learning_rate': 0.3, 'n_estimators': 50}\n",
      "0.565 (0.042) with: {'learning_rate': 0.7, 'n_estimators': 5}\n",
      "0.549 (0.040) with: {'learning_rate': 0.7, 'n_estimators': 10}\n",
      "0.548 (0.033) with: {'learning_rate': 0.7, 'n_estimators': 15}\n",
      "0.532 (0.035) with: {'learning_rate': 0.7, 'n_estimators': 20}\n",
      "0.436 (0.054) with: {'learning_rate': 0.7, 'n_estimators': 50}\n",
      "0.545 (0.038) with: {'learning_rate': 1, 'n_estimators': 5}\n",
      "0.544 (0.042) with: {'learning_rate': 1, 'n_estimators': 10}\n",
      "0.533 (0.037) with: {'learning_rate': 1, 'n_estimators': 15}\n",
      "0.508 (0.024) with: {'learning_rate': 1, 'n_estimators': 20}\n",
      "0.437 (0.098) with: {'learning_rate': 1, 'n_estimators': 50}\n",
      "0.549 (0.031) with: {'learning_rate': 0.5, 'n_estimators': 5}\n",
      "0.557 (0.037) with: {'learning_rate': 0.5, 'n_estimators': 10}\n",
      "0.556 (0.034) with: {'learning_rate': 0.5, 'n_estimators': 15}\n",
      "0.550 (0.036) with: {'learning_rate': 0.5, 'n_estimators': 20}\n",
      "0.504 (0.032) with: {'learning_rate': 0.5, 'n_estimators': 50}\n"
     ]
    }
   ],
   "source": [
    "\n",
    "model_ada= AdaBoostRegressor()\n",
    "\n",
    "#param\n",
    "n_estimators= [5,10,15,20,50]\n",
    "learning_rate=[0.1,.2,.3,.7,1,.5]\n",
    "grid = dict(n_estimators=n_estimators,\n",
    "            learning_rate= learning_rate\n",
    "           \n",
    "           )\n",
    "\n",
    "cv = KFold(n_splits=5,shuffle=True)\n",
    "\n",
    "grid_search_ada = GridSearchCV(estimator=model_ada, param_grid=grid, n_jobs=-1, \n",
    "                           scoring='r2',error_score=0,verbose=2,cv=cv)\n",
    "\n",
    "grid_search_ada.fit(x_train, y_train)\n",
    "\n",
    "# summarize results\n",
    "print(f\"Best: {grid_search_ada.best_score_:.3f} using {grid_search_ada.best_params_}\")\n",
    "means = grid_search_ada.cv_results_['mean_test_score']\n",
    "stds = grid_search_ada.cv_results_['std_test_score']\n",
    "params = grid_search_ada.cv_results_['params']\n",
    "\n",
    "for mean, stdev, param in zip(means, stds, params):\n",
    "    print(f\"{mean:.3f} ({stdev:.3f}) with: {param}\")"
   ]
  },
  {
   "cell_type": "markdown",
   "id": "1dc80d0b",
   "metadata": {},
   "source": [
    " ### best model so far is ada_reg with learning rate 0.3, n_estimator = 10"
   ]
  },
  {
   "cell_type": "code",
   "execution_count": 31,
   "id": "14dc4bd9",
   "metadata": {},
   "outputs": [
    {
     "name": "stdout",
     "output_type": "stream",
     "text": [
      "rmse : 1091.9694843442512\n",
      "MSE : 1192397.35473905\n"
     ]
    },
    {
     "data": {
      "image/png": "[encoded data removed]",
      "text/plain": [
       "<Figure size 432x288 with 1 Axes>"
      ]
     },
     "metadata": {
      "needs_background": "light"
     },
     "output_type": "display_data"
    }
   ],
   "source": [
    "y_pred = ada_reg.predict(x_test)\n",
    "rmse= np.sqrt(mean_squared_error(y_test,y_pred))\n",
    "print(\"rmse :\",rmse)\n",
    "print(\"MSE :\",mean_squared_error(y_test,y_pred) )\n",
    "\n",
    "plt.scatter(y_test,y_pred)\n",
    "plt.show()\n"
   ]
  },
  {
   "cell_type": "code",
   "execution_count": 32,
   "id": "e19fabce",
   "metadata": {},
   "outputs": [
    {
     "name": "stdout",
     "output_type": "stream",
     "text": [
      "0.561536531639118\n"
     ]
    }
   ],
   "source": [
    "from sklearn.model_selection import cross_val_score, KFold\n",
    "cv = KFold(n_splits=5, random_state=1, shuffle=True)\n",
    "scores = cross_val_score(ada_reg,x_train, y_train, scoring='r2', cv=cv, n_jobs=-1)\n",
    "print(np.mean(scores))"
   ]
  },
  {
   "cell_type": "code",
   "execution_count": 33,
   "id": "1bd2fd1b",
   "metadata": {},
   "outputs": [
    {
     "data": {
      "text/plain": [
       "0.5678118265022081"
      ]
     },
     "execution_count": 33,
     "metadata": {},
     "output_type": "execute_result"
    }
   ],
   "source": [
    "ada_reg.score(x_test,y_test)"
   ]
  },
  {
   "cell_type": "code",
   "execution_count": 34,
   "id": "771ffe36",
   "metadata": {},
   "outputs": [
    {
     "data": {
      "text/html": [
       "<div>\n",
       "<style scoped>\n",
       "    .dataframe tbody tr th:only-of-type {\n",
       "        vertical-align: middle;\n",
       "    }\n",
       "\n",
       "    .dataframe tbody tr th {\n",
       "        vertical-align: top;\n",
       "    }\n",
       "\n",
       "    .dataframe thead th {\n",
       "        text-align: right;\n",
       "    }\n",
       "</style>\n",
       "<table border=\"1\" class=\"dataframe\">\n",
       "  <thead>\n",
       "    <tr style=\"text-align: right;\">\n",
       "      <th></th>\n",
       "      <th>Actual</th>\n",
       "      <th>Predicted</th>\n",
       "    </tr>\n",
       "  </thead>\n",
       "  <tbody>\n",
       "    <tr>\n",
       "      <th>7503</th>\n",
       "      <td>1743.0644</td>\n",
       "      <td>1043.407349</td>\n",
       "    </tr>\n",
       "    <tr>\n",
       "      <th>2957</th>\n",
       "      <td>356.8688</td>\n",
       "      <td>903.305731</td>\n",
       "    </tr>\n",
       "    <tr>\n",
       "      <th>7031</th>\n",
       "      <td>377.5086</td>\n",
       "      <td>903.305731</td>\n",
       "    </tr>\n",
       "    <tr>\n",
       "      <th>1084</th>\n",
       "      <td>5778.4782</td>\n",
       "      <td>5102.001087</td>\n",
       "    </tr>\n",
       "    <tr>\n",
       "      <th>856</th>\n",
       "      <td>2356.9320</td>\n",
       "      <td>3434.030409</td>\n",
       "    </tr>\n",
       "    <tr>\n",
       "      <th>4304</th>\n",
       "      <td>865.5400</td>\n",
       "      <td>903.305731</td>\n",
       "    </tr>\n",
       "    <tr>\n",
       "      <th>2132</th>\n",
       "      <td>4613.9940</td>\n",
       "      <td>5132.858504</td>\n",
       "    </tr>\n",
       "  </tbody>\n",
       "</table>\n",
       "</div>"
      ],
      "text/plain": [
       "         Actual    Predicted\n",
       "7503  1743.0644  1043.407349\n",
       "2957   356.8688   903.305731\n",
       "7031   377.5086   903.305731\n",
       "1084  5778.4782  5102.001087\n",
       "856   2356.9320  3434.030409\n",
       "4304   865.5400   903.305731\n",
       "2132  4613.9940  5132.858504"
      ]
     },
     "execution_count": 34,
     "metadata": {},
     "output_type": "execute_result"
    }
   ],
   "source": [
    "result= pd.DataFrame({\"Actual\":y_test,\"Predicted\":y_pred})\n",
    "result.head(7)"
   ]
  },
  {
   "cell_type": "code",
   "execution_count": null,
   "id": "122ef42e",
   "metadata": {},
   "outputs": [],
   "source": []
  },
  {
   "cell_type": "markdown",
   "id": "d8b1297f",
   "metadata": {},
   "source": [
    "### saving model and scaler"
   ]
  },
  {
   "cell_type": "code",
   "execution_count": 42,
   "id": "253e2d9e",
   "metadata": {},
   "outputs": [],
   "source": [
    "import pickle\n",
    "#model\n",
    "filename= \"model.sav\"\n",
    "pickle.dump(ada_reg,open(filename,\"wb\"))"
   ]
  },
  {
   "cell_type": "code",
   "execution_count": 43,
   "id": "3bc27eb7",
   "metadata": {},
   "outputs": [],
   "source": [
    "#scaler\n",
    "filename = \"scaler.sav\"\n",
    "pickle.dump(scaler,open(filename,\"wb\"))"
   ]
  },
  {
   "cell_type": "code",
   "execution_count": 44,
   "id": "9afd9c10",
   "metadata": {},
   "outputs": [
    {
     "data": {
      "text/plain": [
       "0.5678118265022081"
      ]
     },
     "execution_count": 44,
     "metadata": {},
     "output_type": "execute_result"
    }
   ],
   "source": [
    "ld_model= pickle.load(open(\"model.sav\",\"rb\"))\n",
    "ld_model.score(x_test,y_test)"
   ]
  },
  {
   "cell_type": "code",
   "execution_count": null,
   "id": "bec9b7ea",
   "metadata": {},
   "outputs": [],
   "source": []
  }
 ],
 "metadata": {
  "kernelspec": {
   "display_name": "Python 3 (ipykernel)",
   "language": "python",
   "name": "python3"
  },
  "language_info": {
   "codemirror_mode": {
    "name": "ipython",
    "version": 3
   },
   "file_extension": ".py",
   "mimetype": "text/x-python",
   "name": "python",
   "nbconvert_exporter": "python",
   "pygments_lexer": "ipython3",
   "version": "3.8.12"
  }
 },
 "nbformat": 4,
 "nbformat_minor": 5
}
